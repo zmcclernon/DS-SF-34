{
 "cells": [
  {
   "cell_type": "markdown",
   "metadata": {},
   "source": [
    "# DS-SF-34 | 10 | Regularization | Codealong | Starter Code"
   ]
  },
  {
   "cell_type": "code",
<<<<<<< HEAD
   "execution_count": 7,
=======
   "execution_count": null,
>>>>>>> upstream/master
   "metadata": {
    "collapsed": false
   },
   "outputs": [],
   "source": [
    "import os\n",
    "\n",
    "import numpy as np\n",
    "import pandas as pd\n",
    "pd.set_option('display.max_rows', 20)\n",
    "pd.set_option('display.notebook_repr_html', True)\n",
    "pd.set_option('display.max_columns', 10)\n",
    "\n",
    "import statsmodels.api as sm\n",
    "import statsmodels.formula.api as smf\n",
    "\n",
    "from sklearn import preprocessing, linear_model, model_selection, metrics\n",
    "\n",
    "import matplotlib.pyplot as plt\n",
    "%matplotlib inline\n",
    "plt.style.use('ggplot')"
   ]
  },
  {
   "cell_type": "markdown",
   "metadata": {},
   "source": [
    "## Part A | Closed-form solution for $\\hat{\\beta}$"
   ]
  },
  {
   "cell_type": "code",
<<<<<<< HEAD
   "execution_count": 8,
=======
   "execution_count": null,
>>>>>>> upstream/master
   "metadata": {
    "collapsed": true
   },
   "outputs": [],
   "source": [
    "df = pd.read_csv(os.path.join('..', 'datasets', 'dataset-10-zillow.csv'), index_col = 'ID')"
   ]
  },
  {
   "cell_type": "code",
<<<<<<< HEAD
   "execution_count": 9,
   "metadata": {
    "collapsed": false
   },
   "outputs": [
    {
     "data": {
      "text/html": [
       "<table class=\"simpletable\">\n",
       "<caption>OLS Regression Results</caption>\n",
       "<tr>\n",
       "  <th>Dep. Variable:</th>        <td>SalePrice</td>    <th>  R-squared:         </th> <td>   0.236</td>\n",
       "</tr>\n",
       "<tr>\n",
       "  <th>Model:</th>                   <td>OLS</td>       <th>  Adj. R-squared:    </th> <td>   0.235</td>\n",
       "</tr>\n",
       "<tr>\n",
       "  <th>Method:</th>             <td>Least Squares</td>  <th>  F-statistic:       </th> <td>   297.4</td>\n",
       "</tr>\n",
       "<tr>\n",
       "  <th>Date:</th>             <td>Wed, 17 May 2017</td> <th>  Prob (F-statistic):</th> <td>2.67e-58</td>\n",
       "</tr>\n",
       "<tr>\n",
       "  <th>Time:</th>                 <td>20:48:44</td>     <th>  Log-Likelihood:    </th> <td> -1687.9</td>\n",
       "</tr>\n",
       "<tr>\n",
       "  <th>No. Observations:</th>      <td>   967</td>      <th>  AIC:               </th> <td>   3380.</td>\n",
       "</tr>\n",
       "<tr>\n",
       "  <th>Df Residuals:</th>          <td>   965</td>      <th>  BIC:               </th> <td>   3390.</td>\n",
       "</tr>\n",
       "<tr>\n",
       "  <th>Df Model:</th>              <td>     1</td>      <th>                     </th>     <td> </td>   \n",
       "</tr>\n",
       "<tr>\n",
       "  <th>Covariance Type:</th>      <td>nonrobust</td>    <th>                     </th>     <td> </td>   \n",
       "</tr>\n",
       "</table>\n",
       "<table class=\"simpletable\">\n",
       "<tr>\n",
       "    <td></td>       <th>coef</th>     <th>std err</th>      <th>t</th>      <th>P>|t|</th> <th>[95.0% Conf. Int.]</th> \n",
       "</tr>\n",
       "<tr>\n",
       "  <th>const</th> <td>    0.1551</td> <td>    0.084</td> <td>    1.842</td> <td> 0.066</td> <td>   -0.010     0.320</td>\n",
       "</tr>\n",
       "<tr>\n",
       "  <th>Size</th>  <td>    0.7497</td> <td>    0.043</td> <td>   17.246</td> <td> 0.000</td> <td>    0.664     0.835</td>\n",
       "</tr>\n",
       "</table>\n",
       "<table class=\"simpletable\">\n",
       "<tr>\n",
       "  <th>Omnibus:</th>       <td>1842.865</td> <th>  Durbin-Watson:     </th>  <td>   1.704</td>  \n",
       "</tr>\n",
       "<tr>\n",
       "  <th>Prob(Omnibus):</th>  <td> 0.000</td>  <th>  Jarque-Bera (JB):  </th> <td>3398350.943</td>\n",
       "</tr>\n",
       "<tr>\n",
       "  <th>Skew:</th>           <td>13.502</td>  <th>  Prob(JB):          </th>  <td>    0.00</td>  \n",
       "</tr>\n",
       "<tr>\n",
       "  <th>Kurtosis:</th>       <td>292.162</td> <th>  Cond. No.          </th>  <td>    4.40</td>  \n",
       "</tr>\n",
       "</table>"
      ],
      "text/plain": [
       "<class 'statsmodels.iolib.summary.Summary'>\n",
       "\"\"\"\n",
       "                            OLS Regression Results                            \n",
       "==============================================================================\n",
       "Dep. Variable:              SalePrice   R-squared:                       0.236\n",
       "Model:                            OLS   Adj. R-squared:                  0.235\n",
       "Method:                 Least Squares   F-statistic:                     297.4\n",
       "Date:                Wed, 17 May 2017   Prob (F-statistic):           2.67e-58\n",
       "Time:                        20:48:44   Log-Likelihood:                -1687.9\n",
       "No. Observations:                 967   AIC:                             3380.\n",
       "Df Residuals:                     965   BIC:                             3390.\n",
       "Df Model:                           1                                         \n",
       "Covariance Type:            nonrobust                                         \n",
       "==============================================================================\n",
       "                 coef    std err          t      P>|t|      [95.0% Conf. Int.]\n",
       "------------------------------------------------------------------------------\n",
       "const          0.1551      0.084      1.842      0.066        -0.010     0.320\n",
       "Size           0.7497      0.043     17.246      0.000         0.664     0.835\n",
       "==============================================================================\n",
       "Omnibus:                     1842.865   Durbin-Watson:                   1.704\n",
       "Prob(Omnibus):                  0.000   Jarque-Bera (JB):          3398350.943\n",
       "Skew:                          13.502   Prob(JB):                         0.00\n",
       "Kurtosis:                     292.162   Cond. No.                         4.40\n",
       "==============================================================================\n",
       "\n",
       "Warnings:\n",
       "[1] Standard Errors assume that the covariance matrix of the errors is correctly specified.\n",
       "\"\"\""
      ]
     },
     "execution_count": 9,
     "metadata": {},
     "output_type": "execute_result"
    }
   ],
=======
   "execution_count": null,
   "metadata": {
    "collapsed": false
   },
   "outputs": [],
>>>>>>> upstream/master
   "source": [
    "df.dropna(subset = ['Size', 'SalePrice'], inplace = True)\n",
    "\n",
    "train_X = df[ ['Size'] ]\n",
    "train_X = sm.add_constant(train_X)\n",
    "\n",
    "train_y = df.SalePrice\n",
    "\n",
    "smf.OLS(train_y, train_X).fit().summary()"
   ]
  },
  {
   "cell_type": "code",
<<<<<<< HEAD
   "execution_count": 16,
   "metadata": {
    "collapsed": false
   },
   "outputs": [
    {
     "data": {
      "text/plain": [
       "array([ 0.15505177,  0.74972809])"
      ]
     },
     "execution_count": 16,
     "metadata": {},
     "output_type": "execute_result"
    }
   ],
   "source": [
    "# TODO\n",
    "\n",
    "# train_x\n",
    "# train_y\n",
    "\n",
    "#calculate covariance matrix == x transposed * x\n",
    "\n",
    "np.linalg.inv(np.dot(train_X.T, train_X)).dot(train_X.T).dot(train_y)\n",
    "\n",
    "#output = beta 0 and beta 1"
=======
   "execution_count": null,
   "metadata": {
    "collapsed": false
   },
   "outputs": [],
   "source": [
    "# TODO"
>>>>>>> upstream/master
   ]
  },
  {
   "cell_type": "markdown",
   "metadata": {},
   "source": [
    "## Part B | Closed-form solution for $\\hat{\\beta}$ (cont.)"
   ]
  },
  {
   "cell_type": "code",
<<<<<<< HEAD
   "execution_count": 17,
   "metadata": {
    "collapsed": false
   },
   "outputs": [
    {
     "name": "stdout",
     "output_type": "stream",
     "text": [
      "beta_0_hat ="
     ]
    },
    {
     "ename": "NameError",
     "evalue": "name 'beta_0_hat' is not defined",
     "output_type": "error",
     "traceback": [
      "\u001b[0;31m---------------------------------------------------------------------------\u001b[0m",
      "\u001b[0;31mNameError\u001b[0m                                 Traceback (most recent call last)",
      "\u001b[0;32m<ipython-input-17-a9388e893f9b>\u001b[0m in \u001b[0;36m<module>\u001b[0;34m()\u001b[0m\n\u001b[1;32m      3\u001b[0m \u001b[0;31m# TODO\u001b[0m\u001b[0;34m\u001b[0m\u001b[0;34m\u001b[0m\u001b[0m\n\u001b[1;32m      4\u001b[0m \u001b[0;34m\u001b[0m\u001b[0m\n\u001b[0;32m----> 5\u001b[0;31m \u001b[0;32mprint\u001b[0m \u001b[0;34m'beta_0_hat ='\u001b[0m\u001b[0;34m,\u001b[0m \u001b[0mbeta_0_hat\u001b[0m\u001b[0;34m\u001b[0m\u001b[0m\n\u001b[0m\u001b[1;32m      6\u001b[0m \u001b[0;32mprint\u001b[0m \u001b[0;34m'beta_1_hat ='\u001b[0m\u001b[0;34m,\u001b[0m \u001b[0mbeta_1_hat\u001b[0m\u001b[0;34m\u001b[0m\u001b[0m\n",
      "\u001b[0;31mNameError\u001b[0m: name 'beta_0_hat' is not defined"
     ]
    }
   ],
=======
   "execution_count": null,
   "metadata": {
    "collapsed": false
   },
   "outputs": [],
>>>>>>> upstream/master
   "source": [
    "train_x = train_X.Size\n",
    "\n",
    "# TODO\n",
    "\n",
<<<<<<< HEAD
    "\n",
    "\n",
=======
>>>>>>> upstream/master
    "print 'beta_0_hat =', beta_0_hat\n",
    "print 'beta_1_hat =', beta_1_hat"
   ]
  },
  {
   "cell_type": "markdown",
   "metadata": {},
   "source": [
    "## Part C | Regularization"
   ]
  },
  {
   "cell_type": "markdown",
   "metadata": {},
   "source": [
    "### Truth"
   ]
  },
  {
   "cell_type": "code",
<<<<<<< HEAD
   "execution_count": 18,
   "metadata": {
    "collapsed": false
   },
   "outputs": [
    {
     "name": "stdout",
     "output_type": "stream",
     "text": [
      "\n"
     ]
    }
   ],
=======
   "execution_count": null,
   "metadata": {
    "collapsed": true
   },
   "outputs": [],
>>>>>>> upstream/master
   "source": [
    "def f(x):\n",
    "    return np.sin(2 * np.pi * x)"
   ]
  },
  {
   "cell_type": "code",
<<<<<<< HEAD
   "execution_count": 19,
=======
   "execution_count": null,
>>>>>>> upstream/master
   "metadata": {
    "collapsed": true
   },
   "outputs": [],
   "source": [
    "truth_df = pd.DataFrame(index = range(100))\n",
    "truth_df['x'] = np.linspace(0, 1, truth_df.shape[0])\n",
    "truth_df['y'] = truth_df.x.apply(f)"
   ]
  },
  {
   "cell_type": "markdown",
   "metadata": {},
   "source": [
    "### Training/testing sets"
   ]
  },
  {
   "cell_type": "markdown",
   "metadata": {},
   "source": [
    "- (http://scikit-learn.org/stable/modules/generated/sklearn.model_selection.train_test_split.html)"
   ]
  },
  {
   "cell_type": "code",
<<<<<<< HEAD
   "execution_count": 20,
=======
   "execution_count": null,
>>>>>>> upstream/master
   "metadata": {
    "collapsed": false
   },
   "outputs": [],
   "source": [
    "np.random.seed(0)\n",
    "\n",
    "df = pd.DataFrame(index = range(100))\n",
    "df['x'] = np.random.uniform(0, 1, size = df.shape[0])\n",
    "\n",
    "df['Noise'] = np.random.normal(size = df.shape[0])\n",
    "df['y'] = df.x.apply(f) * (1 + .5 * df.Noise)"
   ]
  },
  {
   "cell_type": "code",
<<<<<<< HEAD
   "execution_count": 21,
=======
   "execution_count": null,
>>>>>>> upstream/master
   "metadata": {
    "collapsed": true
   },
   "outputs": [],
   "source": [
    "X = df[ ['x'] ]\n",
    "y = df.y"
   ]
  },
  {
   "cell_type": "code",
<<<<<<< HEAD
   "execution_count": 22,
=======
   "execution_count": null,
>>>>>>> upstream/master
   "metadata": {
    "collapsed": true
   },
   "outputs": [],
   "source": [
    "train_X, test_X, train_y, test_y = model_selection.train_test_split(X, y, train_size = .25)"
   ]
  },
  {
   "cell_type": "code",
<<<<<<< HEAD
   "execution_count": 23,
   "metadata": {
    "collapsed": false
   },
   "outputs": [
    {
     "data": {
      "text/plain": [
       "<matplotlib.legend.Legend at 0x1161151d0>"
      ]
     },
     "execution_count": 23,
     "metadata": {},
     "output_type": "execute_result"
    },
    {
     "data": {
      "image/png": "iVBORw0KGgoAAAANSUhEUgAAAYQAAAD8CAYAAAB3u9PLAAAABHNCSVQICAgIfAhkiAAAAAlwSFlz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\nSUVORK5CYII=\n",
      "text/plain": [
       "<matplotlib.figure.Figure at 0x1160ebc90>"
      ]
     },
     "metadata": {},
     "output_type": "display_data"
    }
   ],
=======
   "execution_count": null,
   "metadata": {
    "collapsed": false
   },
   "outputs": [],
>>>>>>> upstream/master
   "source": [
    "plt.figure()\n",
    "plt.xlim((truth_df.x.min(), truth_df.x.max()))\n",
    "plt.ylim((-2, 2))\n",
    "\n",
    "plt.plot(truth_df.x, truth_df.y, color = 'green', label = 'truth')\n",
    "plt.scatter(train_X.x, train_y, s = 10, label = 'train')\n",
    "\n",
    "plt.legend()"
   ]
  },
  {
   "cell_type": "markdown",
   "metadata": {},
   "source": [
    "### Polynomial Models"
   ]
  },
  {
   "cell_type": "markdown",
   "metadata": {},
   "source": [
    "- (http://scikit-learn.org/stable/modules/generated/sklearn.preprocessing.PolynomialFeatures.html)\n",
    "- (http://scikit-learn.org/stable/modules/generated/sklearn.metrics.mean_squared_error.html)"
   ]
  },
  {
   "cell_type": "code",
<<<<<<< HEAD
   "execution_count": 24,
   "metadata": {
    "collapsed": false
   },
   "outputs": [
    {
     "ename": "IndentationError",
     "evalue": "expected an indented block (<ipython-input-24-fdc3fc660e68>, line 15)",
     "output_type": "error",
     "traceback": [
      "\u001b[0;36m  File \u001b[0;32m\"<ipython-input-24-fdc3fc660e68>\"\u001b[0;36m, line \u001b[0;32m15\u001b[0m\n\u001b[0;31m    def score(self, X, y):\u001b[0m\n\u001b[0m      ^\u001b[0m\n\u001b[0;31mIndentationError\u001b[0m\u001b[0;31m:\u001b[0m expected an indented block\n"
     ]
    }
   ],
=======
   "execution_count": null,
   "metadata": {
    "collapsed": true
   },
   "outputs": [],
>>>>>>> upstream/master
   "source": [
    "class Polynomial(object):\n",
    "    def __init__(self, n):\n",
    "        self.features = preprocessing.PolynomialFeatures(n)\n",
    "        self.model = linear_model.LinearRegression()\n",
    "\n",
    "    def fit(self, X, y):\n",
    "        self.X = X\n",
    "        # TODO\n",
    "\n",
    "        return self\n",
    "\n",
    "    def predict(self, X):\n",
    "        # TODO\n",
    "\n",
    "    def score(self, X, y):\n",
    "        X = self.features.transform(X)\n",
    "        return np.log(2 - self.model.score(X, y))\n",
    "\n",
    "    def mean_squared_error(self, X, y):\n",
    "        y_hat = self.predict(X)\n",
    "        return np.log(metrics.mean_squared_error(y_hat, y))"
   ]
  },
  {
   "cell_type": "code",
   "execution_count": null,
   "metadata": {
    "collapsed": false
   },
   "outputs": [],
   "source": [
    "ns = [0, 1, 2, 3, 5, 7, 9, 11, 13, 17]\n",
    "\n",
    "models = [Polynomial(n).fit(train_X, train_y) for n in ns]"
   ]
  },
  {
   "cell_type": "markdown",
   "metadata": {},
   "source": [
    "### Plots"
   ]
  },
  {
   "cell_type": "code",
<<<<<<< HEAD
   "execution_count": 28,
   "metadata": {
    "collapsed": false
   },
   "outputs": [
    {
     "ename": "NameError",
     "evalue": "name 'ns' is not defined",
     "output_type": "error",
     "traceback": [
      "\u001b[0;31m---------------------------------------------------------------------------\u001b[0m",
      "\u001b[0;31mNameError\u001b[0m                                 Traceback (most recent call last)",
      "\u001b[0;32m<ipython-input-28-8812c3b5be57>\u001b[0m in \u001b[0;36m<module>\u001b[0;34m()\u001b[0m\n\u001b[1;32m      6\u001b[0m \u001b[0mplt\u001b[0m\u001b[0;34m.\u001b[0m\u001b[0mscatter\u001b[0m\u001b[0;34m(\u001b[0m\u001b[0mtrain_X\u001b[0m\u001b[0;34m.\u001b[0m\u001b[0mx\u001b[0m\u001b[0;34m,\u001b[0m \u001b[0mtrain_y\u001b[0m\u001b[0;34m,\u001b[0m \u001b[0ms\u001b[0m \u001b[0;34m=\u001b[0m \u001b[0;36m10\u001b[0m\u001b[0;34m,\u001b[0m \u001b[0mlabel\u001b[0m \u001b[0;34m=\u001b[0m \u001b[0;34m'train'\u001b[0m\u001b[0;34m)\u001b[0m\u001b[0;34m\u001b[0m\u001b[0m\n\u001b[1;32m      7\u001b[0m \u001b[0;34m\u001b[0m\u001b[0m\n\u001b[0;32m----> 8\u001b[0;31m \u001b[0;32mfor\u001b[0m \u001b[0mi\u001b[0m\u001b[0;34m,\u001b[0m \u001b[0mn\u001b[0m \u001b[0;32min\u001b[0m \u001b[0menumerate\u001b[0m\u001b[0;34m(\u001b[0m\u001b[0mns\u001b[0m\u001b[0;34m)\u001b[0m\u001b[0;34m:\u001b[0m\u001b[0;34m\u001b[0m\u001b[0m\n\u001b[0m\u001b[1;32m      9\u001b[0m     \u001b[0mX\u001b[0m \u001b[0;34m=\u001b[0m \u001b[0mtruth_df\u001b[0m\u001b[0;34m[\u001b[0m \u001b[0;34m[\u001b[0m\u001b[0;34m'x'\u001b[0m\u001b[0;34m]\u001b[0m \u001b[0;34m]\u001b[0m\u001b[0;34m\u001b[0m\u001b[0m\n\u001b[1;32m     10\u001b[0m     \u001b[0my_hat\u001b[0m \u001b[0;34m=\u001b[0m \u001b[0mmodels\u001b[0m\u001b[0;34m[\u001b[0m\u001b[0mi\u001b[0m\u001b[0;34m]\u001b[0m\u001b[0;34m.\u001b[0m\u001b[0mpredict\u001b[0m\u001b[0;34m(\u001b[0m\u001b[0mX\u001b[0m\u001b[0;34m)\u001b[0m\u001b[0;34m\u001b[0m\u001b[0m\n",
      "\u001b[0;31mNameError\u001b[0m: name 'ns' is not defined"
     ]
    },
    {
     "data": {
      "image/png": "iVBORw0KGgoAAAANSUhEUgAAAfQAAAHWCAYAAACBsnu3AAAABHNCSVQICAgIfAhkiAAAAAlwSFlz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\nAElFTkSuQmCC\n",
      "text/plain": [
       "<matplotlib.figure.Figure at 0x1164e1c50>"
      ]
     },
     "metadata": {},
     "output_type": "display_data"
    }
   ],
=======
   "execution_count": null,
   "metadata": {
    "collapsed": false
   },
   "outputs": [],
>>>>>>> upstream/master
   "source": [
    "plt.figure(figsize = (8, 8))\n",
    "plt.xlim((truth_df.x.min(), truth_df.x.max()))\n",
    "plt.ylim((-2, 2))\n",
    "\n",
    "plt.plot(truth_df.x, truth_df.y, color = 'green', label = 'truth')\n",
    "plt.scatter(train_X.x, train_y, s = 10, label = 'train')\n",
    "\n",
    "for i, n in enumerate(ns):\n",
    "    X = truth_df[ ['x'] ]\n",
    "    y_hat = models[i].predict(X)\n",
    "    plt.plot(X.x, y_hat, label = 'n = {}'.format(n))\n",
    "\n",
    "plt.legend()"
   ]
  },
  {
   "cell_type": "code",
<<<<<<< HEAD
   "execution_count": 29,
   "metadata": {
    "collapsed": false
   },
   "outputs": [
    {
     "ename": "NameError",
     "evalue": "name 'ns' is not defined",
     "output_type": "error",
     "traceback": [
      "\u001b[0;31m---------------------------------------------------------------------------\u001b[0m",
      "\u001b[0;31mNameError\u001b[0m                                 Traceback (most recent call last)",
      "\u001b[0;32m<ipython-input-29-f9439c7a03cc>\u001b[0m in \u001b[0;36m<module>\u001b[0;34m()\u001b[0m\n\u001b[0;32m----> 1\u001b[0;31m \u001b[0mscore_df\u001b[0m \u001b[0;34m=\u001b[0m \u001b[0mpd\u001b[0m\u001b[0;34m.\u001b[0m\u001b[0mDataFrame\u001b[0m\u001b[0;34m(\u001b[0m\u001b[0;34m{\u001b[0m\u001b[0;34m'n'\u001b[0m\u001b[0;34m:\u001b[0m \u001b[0mns\u001b[0m\u001b[0;34m,\u001b[0m \u001b[0;34m'model'\u001b[0m\u001b[0;34m:\u001b[0m \u001b[0mmodels\u001b[0m\u001b[0;34m}\u001b[0m\u001b[0;34m)\u001b[0m\u001b[0;34m\u001b[0m\u001b[0m\n\u001b[0m\u001b[1;32m      2\u001b[0m \u001b[0mscore_df\u001b[0m\u001b[0;34m[\u001b[0m\u001b[0;34m'train (log(2 - R^2))'\u001b[0m\u001b[0;34m]\u001b[0m \u001b[0;34m=\u001b[0m \u001b[0mscore_df\u001b[0m\u001b[0;34m.\u001b[0m\u001b[0mmodel\u001b[0m\u001b[0;34m.\u001b[0m\u001b[0mapply\u001b[0m\u001b[0;34m(\u001b[0m\u001b[0;32mlambda\u001b[0m \u001b[0mmodel\u001b[0m\u001b[0;34m:\u001b[0m \u001b[0mmodel\u001b[0m\u001b[0;34m.\u001b[0m\u001b[0mscore\u001b[0m\u001b[0;34m(\u001b[0m\u001b[0mtrain_X\u001b[0m\u001b[0;34m,\u001b[0m \u001b[0mtrain_y\u001b[0m\u001b[0;34m)\u001b[0m\u001b[0;34m)\u001b[0m\u001b[0;34m\u001b[0m\u001b[0m\n\u001b[1;32m      3\u001b[0m \u001b[0mscore_df\u001b[0m\u001b[0;34m[\u001b[0m\u001b[0;34m'test (log(2 - R^2))'\u001b[0m\u001b[0;34m]\u001b[0m \u001b[0;34m=\u001b[0m \u001b[0mscore_df\u001b[0m\u001b[0;34m.\u001b[0m\u001b[0mmodel\u001b[0m\u001b[0;34m.\u001b[0m\u001b[0mapply\u001b[0m\u001b[0;34m(\u001b[0m\u001b[0;32mlambda\u001b[0m \u001b[0mmodel\u001b[0m\u001b[0;34m:\u001b[0m \u001b[0mmodel\u001b[0m\u001b[0;34m.\u001b[0m\u001b[0mscore\u001b[0m\u001b[0;34m(\u001b[0m\u001b[0mtest_X\u001b[0m\u001b[0;34m,\u001b[0m \u001b[0mtest_y\u001b[0m\u001b[0;34m)\u001b[0m\u001b[0;34m)\u001b[0m\u001b[0;34m\u001b[0m\u001b[0m\n\u001b[1;32m      4\u001b[0m \u001b[0;34m\u001b[0m\u001b[0m\n\u001b[1;32m      5\u001b[0m \u001b[0mscore_df\u001b[0m\u001b[0;34m.\u001b[0m\u001b[0mdrop\u001b[0m\u001b[0;34m(\u001b[0m\u001b[0;34m'model'\u001b[0m\u001b[0;34m,\u001b[0m \u001b[0maxis\u001b[0m \u001b[0;34m=\u001b[0m \u001b[0;36m1\u001b[0m\u001b[0;34m)\u001b[0m\u001b[0;34m.\u001b[0m\u001b[0mset_index\u001b[0m\u001b[0;34m(\u001b[0m\u001b[0;34m'n'\u001b[0m\u001b[0;34m)\u001b[0m\u001b[0;34m.\u001b[0m\u001b[0mplot\u001b[0m\u001b[0;34m(\u001b[0m\u001b[0;34m)\u001b[0m\u001b[0;34m\u001b[0m\u001b[0m\n",
      "\u001b[0;31mNameError\u001b[0m: name 'ns' is not defined"
     ]
    }
   ],
=======
   "execution_count": null,
   "metadata": {
    "collapsed": false
   },
   "outputs": [],
>>>>>>> upstream/master
   "source": [
    "score_df = pd.DataFrame({'n': ns, 'model': models})\n",
    "score_df['train (log(2 - R^2))'] = score_df.model.apply(lambda model: model.score(train_X, train_y))\n",
    "score_df['test (log(2 - R^2))'] = score_df.model.apply(lambda model: model.score(test_X, test_y))\n",
    "\n",
    "score_df.drop('model', axis = 1).set_index('n').plot()"
   ]
  },
  {
   "cell_type": "code",
<<<<<<< HEAD
   "execution_count": 30,
   "metadata": {
    "collapsed": false
   },
   "outputs": [
    {
     "ename": "NameError",
     "evalue": "name 'ns' is not defined",
     "output_type": "error",
     "traceback": [
      "\u001b[0;31m---------------------------------------------------------------------------\u001b[0m",
      "\u001b[0;31mNameError\u001b[0m                                 Traceback (most recent call last)",
      "\u001b[0;32m<ipython-input-30-f6328f97d368>\u001b[0m in \u001b[0;36m<module>\u001b[0;34m()\u001b[0m\n\u001b[0;32m----> 1\u001b[0;31m \u001b[0mmean_squared_error_df\u001b[0m \u001b[0;34m=\u001b[0m \u001b[0mpd\u001b[0m\u001b[0;34m.\u001b[0m\u001b[0mDataFrame\u001b[0m\u001b[0;34m(\u001b[0m\u001b[0;34m{\u001b[0m\u001b[0;34m'n'\u001b[0m\u001b[0;34m:\u001b[0m \u001b[0mns\u001b[0m\u001b[0;34m,\u001b[0m \u001b[0;34m'model'\u001b[0m\u001b[0;34m:\u001b[0m \u001b[0mmodels\u001b[0m\u001b[0;34m}\u001b[0m\u001b[0;34m)\u001b[0m\u001b[0;34m\u001b[0m\u001b[0m\n\u001b[0m\u001b[1;32m      2\u001b[0m \u001b[0;34m\u001b[0m\u001b[0m\n\u001b[1;32m      3\u001b[0m \u001b[0mmean_squared_error_df\u001b[0m\u001b[0;34m[\u001b[0m\u001b[0;34m'train (log(MSE))'\u001b[0m\u001b[0;34m]\u001b[0m \u001b[0;34m=\u001b[0m \u001b[0mmean_squared_error_df\u001b[0m\u001b[0;34m.\u001b[0m\u001b[0mmodel\u001b[0m\u001b[0;34m.\u001b[0m    \u001b[0mapply\u001b[0m\u001b[0;34m(\u001b[0m\u001b[0;32mlambda\u001b[0m \u001b[0mmodel\u001b[0m\u001b[0;34m:\u001b[0m \u001b[0mmodel\u001b[0m\u001b[0;34m.\u001b[0m\u001b[0mmean_squared_error\u001b[0m\u001b[0;34m(\u001b[0m\u001b[0mtrain_X\u001b[0m\u001b[0;34m,\u001b[0m \u001b[0mtrain_y\u001b[0m\u001b[0;34m)\u001b[0m\u001b[0;34m)\u001b[0m\u001b[0;34m\u001b[0m\u001b[0m\n\u001b[1;32m      4\u001b[0m \u001b[0;34m\u001b[0m\u001b[0m\n\u001b[1;32m      5\u001b[0m \u001b[0mmean_squared_error_df\u001b[0m\u001b[0;34m[\u001b[0m\u001b[0;34m'test (log(MSE))'\u001b[0m\u001b[0;34m]\u001b[0m \u001b[0;34m=\u001b[0m \u001b[0mmean_squared_error_df\u001b[0m\u001b[0;34m.\u001b[0m\u001b[0mmodel\u001b[0m\u001b[0;34m.\u001b[0m    \u001b[0mapply\u001b[0m\u001b[0;34m(\u001b[0m\u001b[0;32mlambda\u001b[0m \u001b[0mmodel\u001b[0m\u001b[0;34m:\u001b[0m \u001b[0mmodel\u001b[0m\u001b[0;34m.\u001b[0m\u001b[0mmean_squared_error\u001b[0m\u001b[0;34m(\u001b[0m\u001b[0mtest_X\u001b[0m\u001b[0;34m,\u001b[0m \u001b[0mtest_y\u001b[0m\u001b[0;34m)\u001b[0m\u001b[0;34m)\u001b[0m\u001b[0;34m\u001b[0m\u001b[0m\n",
      "\u001b[0;31mNameError\u001b[0m: name 'ns' is not defined"
     ]
    }
   ],
=======
   "execution_count": null,
   "metadata": {
    "collapsed": false
   },
   "outputs": [],
>>>>>>> upstream/master
   "source": [
    "mean_squared_error_df = pd.DataFrame({'n': ns, 'model': models})\n",
    "\n",
    "mean_squared_error_df['train (log(MSE))'] = mean_squared_error_df.model.\\\n",
    "    apply(lambda model: model.mean_squared_error(train_X, train_y))\n",
    "\n",
    "mean_squared_error_df['test (log(MSE))'] = mean_squared_error_df.model.\\\n",
    "    apply(lambda model: model.mean_squared_error(test_X, test_y))\n",
    "\n",
    "mean_squared_error_df.drop('model', axis = 1).set_index('n').plot()"
   ]
  },
  {
   "cell_type": "markdown",
   "metadata": {},
   "source": [
    "### Regularization"
   ]
  },
  {
   "cell_type": "markdown",
   "metadata": {},
   "source": [
    "- (http://scikit-learn.org/stable/modules/generated/sklearn.linear_model.Ridge.html)\n",
    "- (http://scikit-learn.org/stable/modules/generated/sklearn.linear_model.Lasso.html)"
   ]
  },
  {
   "cell_type": "markdown",
   "metadata": {},
   "source": [
    "#### Ridge"
   ]
  },
  {
   "cell_type": "code",
<<<<<<< HEAD
   "execution_count": 31,
=======
   "execution_count": null,
>>>>>>> upstream/master
   "metadata": {
    "collapsed": true
   },
   "outputs": [],
   "source": [
    "class RidgePolynomial(object):\n",
    "    def __init__(self, alpha, n):\n",
    "        self.features = preprocessing.PolynomialFeatures(n)\n",
    "        self.model = linear_model.Ridge(alpha)\n",
    "\n",
    "    def fit(self, X, y):\n",
    "        self.X = X\n",
    "        self.features.fit(X)\n",
    "\n",
    "        X = self.features.transform(X)\n",
    "        self.model.fit(X, y)\n",
    "\n",
    "        return self\n",
    "\n",
    "    def predict(self, X):\n",
    "        X = self.features.transform(X)\n",
    "        return self.model.predict(X)\n",
    "\n",
    "    def score(self, X, y):\n",
    "        X = self.features.transform(X)\n",
    "        return self.model.score(X, y)\n",
    "\n",
    "    def mean_squared_error(self, X, y):\n",
    "        y_hat = self.predict(X)\n",
    "        return metrics.mean_squared_error(y_hat, y)\n",
    "\n",
    "    def complexity(self):\n",
    "        return np.sqrt(np.sum((self.model.coef_) ** 2))"
   ]
  },
  {
   "cell_type": "code",
<<<<<<< HEAD
   "execution_count": 32,
=======
   "execution_count": null,
>>>>>>> upstream/master
   "metadata": {
    "collapsed": false
   },
   "outputs": [],
   "source": [
    "alphas = [1e-1, 1e-2, 1e-3, 1e-5, 1e-7, 1e-9, 1e-11]\n",
    "\n",
    "models = [RidgePolynomial(alpha, 17).fit(train_X, train_y) for alpha in alphas]"
   ]
  },
  {
   "cell_type": "code",
<<<<<<< HEAD
   "execution_count": 33,
   "metadata": {
    "collapsed": false
   },
   "outputs": [
    {
     "data": {
      "text/plain": [
       "<matplotlib.legend.Legend at 0x11a08fa10>"
      ]
     },
     "execution_count": 33,
     "metadata": {},
     "output_type": "execute_result"
    },
    {
     "data": {
      "image/png": "iVBORw0KGgoAAAANSUhEUgAAAfQAAAHWCAYAAACBsnu3AAAABHNCSVQICAgIfAhkiAAAAAlwSFlz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\nEEIIEQb+P6yICEewyTOwAAAAAElFTkSuQmCC\n",
      "text/plain": [
       "<matplotlib.figure.Figure at 0x116501b90>"
      ]
     },
     "metadata": {},
     "output_type": "display_data"
    }
   ],
=======
   "execution_count": null,
   "metadata": {
    "collapsed": false
   },
   "outputs": [],
>>>>>>> upstream/master
   "source": [
    "plt.figure(figsize = (8, 8))\n",
    "plt.xlim((truth_df.x.min(), truth_df.x.max()))\n",
    "plt.ylim((-2, 2))\n",
    "\n",
    "plt.plot(truth_df.x, truth_df.y, color = 'green', label = 'truth')\n",
    "plt.scatter(train_X.x, train_y, s = 10, label = 'train')\n",
    "\n",
    "for i, alpha in enumerate(alphas):\n",
    "    X = truth_df[ ['x'] ]\n",
    "    y_hat = models[i].predict(X)\n",
    "    plt.plot(X.x, y_hat, label = 'alpha = {}'.format(alpha))\n",
    "\n",
    "plt.legend()"
   ]
  },
  {
   "cell_type": "code",
<<<<<<< HEAD
   "execution_count": 34,
   "metadata": {
    "collapsed": false
   },
   "outputs": [
    {
     "data": {
      "text/html": [
       "<div>\n",
       "<table border=\"1\" class=\"dataframe\">\n",
       "  <thead>\n",
       "    <tr style=\"text-align: right;\">\n",
       "      <th></th>\n",
       "      <th>R^2 (train)</th>\n",
       "      <th>R^2 (test)</th>\n",
       "      <th>Complexity</th>\n",
       "    </tr>\n",
       "    <tr>\n",
       "      <th>alpha</th>\n",
       "      <th></th>\n",
       "      <th></th>\n",
       "      <th></th>\n",
       "    </tr>\n",
       "  </thead>\n",
       "  <tbody>\n",
       "    <tr>\n",
       "      <th>1.000000e-01</th>\n",
       "      <td>0.713584</td>\n",
       "      <td>0.652202</td>\n",
       "      <td>3.009789</td>\n",
       "    </tr>\n",
       "    <tr>\n",
       "      <th>1.000000e-02</th>\n",
       "      <td>0.838112</td>\n",
       "      <td>0.755380</td>\n",
       "      <td>9.428890</td>\n",
       "    </tr>\n",
       "    <tr>\n",
       "      <th>1.000000e-03</th>\n",
       "      <td>0.891422</td>\n",
       "      <td>0.806807</td>\n",
       "      <td>19.870429</td>\n",
       "    </tr>\n",
       "    <tr>\n",
       "      <th>1.000000e-05</th>\n",
       "      <td>0.912538</td>\n",
       "      <td>0.816135</td>\n",
       "      <td>61.715585</td>\n",
       "    </tr>\n",
       "    <tr>\n",
       "      <th>1.000000e-07</th>\n",
       "      <td>0.915987</td>\n",
       "      <td>0.809221</td>\n",
       "      <td>254.213187</td>\n",
       "    </tr>\n",
       "    <tr>\n",
       "      <th>1.000000e-09</th>\n",
       "      <td>0.922128</td>\n",
       "      <td>0.793676</td>\n",
       "      <td>4659.913725</td>\n",
       "    </tr>\n",
       "    <tr>\n",
       "      <th>1.000000e-11</th>\n",
       "      <td>0.924141</td>\n",
       "      <td>0.784461</td>\n",
       "      <td>36094.940700</td>\n",
       "    </tr>\n",
       "  </tbody>\n",
       "</table>\n",
       "</div>"
      ],
      "text/plain": [
       "              R^2 (train)  R^2 (test)    Complexity\n",
       "alpha                                              \n",
       "1.000000e-01     0.713584    0.652202      3.009789\n",
       "1.000000e-02     0.838112    0.755380      9.428890\n",
       "1.000000e-03     0.891422    0.806807     19.870429\n",
       "1.000000e-05     0.912538    0.816135     61.715585\n",
       "1.000000e-07     0.915987    0.809221    254.213187\n",
       "1.000000e-09     0.922128    0.793676   4659.913725\n",
       "1.000000e-11     0.924141    0.784461  36094.940700"
      ]
     },
     "execution_count": 34,
     "metadata": {},
     "output_type": "execute_result"
    }
   ],
=======
   "execution_count": null,
   "metadata": {
    "collapsed": false
   },
   "outputs": [],
>>>>>>> upstream/master
   "source": [
    "model_df = pd.DataFrame({'alpha': alphas, 'model': models})\n",
    "model_df['R^2 (train)'] = model_df.model.apply(lambda model: model.score(train_X, train_y))\n",
    "model_df['R^2 (test)'] = model_df.model.apply(lambda model: model.score(test_X, test_y))\n",
    "model_df['Complexity'] = model_df.model.apply(lambda model: model.complexity())\n",
    "\n",
    "model_df.drop('model', axis = 1).set_index('alpha')"
   ]
  },
  {
   "cell_type": "code",
<<<<<<< HEAD
   "execution_count": 35,
   "metadata": {
    "collapsed": false
   },
   "outputs": [
    {
     "data": {
      "text/plain": [
       "array([   0.        ,    3.45452467,   32.31642371, -127.70433773,\n",
       "         84.36833016,   26.97830039,   -9.9934441 ,   17.3794224 ,\n",
       "         31.5240859 ,    2.18081606,  -44.63234641,  -69.81497778,\n",
       "        -52.29303024,    2.06926131,   65.27957275,   96.71979372,\n",
       "         52.13336632, -109.88326166])"
      ]
     },
     "execution_count": 35,
     "metadata": {},
     "output_type": "execute_result"
    }
   ],
=======
   "execution_count": null,
   "metadata": {
    "collapsed": false
   },
   "outputs": [],
>>>>>>> upstream/master
   "source": [
    "models[4].model.coef_"
   ]
  },
  {
   "cell_type": "markdown",
   "metadata": {},
   "source": [
    "#### Lasso"
   ]
  },
  {
   "cell_type": "code",
<<<<<<< HEAD
   "execution_count": 36,
=======
   "execution_count": null,
>>>>>>> upstream/master
   "metadata": {
    "collapsed": false
   },
   "outputs": [],
   "source": [
    "class LassoPolynomial(object):\n",
    "    def __init__(self, alpha, n):\n",
    "        self.features = preprocessing.PolynomialFeatures(n)\n",
    "        self.model = linear_model.Lasso(alpha)\n",
    "\n",
    "    def fit(self, X, y):\n",
    "        self.X = X\n",
    "        self.features.fit(X)\n",
    "\n",
    "        X = self.features.transform(X)\n",
    "        self.model.fit(X, y)\n",
    "\n",
    "        return self\n",
    "\n",
    "    def predict(self, X):\n",
    "        X = self.features.transform(X)\n",
    "        return self.model.predict(X)\n",
    "\n",
    "    def score(self, X, y):\n",
    "        X = self.features.transform(X)\n",
    "        return self.model.score(X, y)\n",
    "\n",
    "    def mean_squared_error(self, X, y):\n",
    "        y_hat = self.predict(X)\n",
    "        return metrics.mean_squared_error(y_hat, y)\n",
    "\n",
    "    def complexity(self):\n",
    "        return np.sum(np.abs(self.model.coef_))"
   ]
  },
  {
   "cell_type": "code",
<<<<<<< HEAD
   "execution_count": 37,
   "metadata": {
    "collapsed": false
   },
   "outputs": [
    {
     "name": "stderr",
     "output_type": "stream",
     "text": [
      "/Users/zackmcclernon/anaconda/lib/python2.7/site-packages/sklearn/linear_model/coordinate_descent.py:484: ConvergenceWarning: Objective did not converge. You might want to increase the number of iterations. Fitting data with very small alpha may cause precision problems.\n",
      "  ConvergenceWarning)\n"
     ]
    }
   ],
=======
   "execution_count": null,
   "metadata": {
    "collapsed": false
   },
   "outputs": [],
>>>>>>> upstream/master
   "source": [
    "alphas = [1e-1, 1e-2, 1e-3, 1e-5, 1e-7, 1e-9, 1e-11]\n",
    "\n",
    "models = [LassoPolynomial(alpha, 17).fit(train_X, train_y) for alpha in alphas]"
   ]
  },
  {
   "cell_type": "code",
<<<<<<< HEAD
   "execution_count": 38,
   "metadata": {
    "collapsed": false
   },
   "outputs": [
    {
     "data": {
      "text/plain": [
       "<matplotlib.legend.Legend at 0x11a327a90>"
      ]
     },
     "execution_count": 38,
     "metadata": {},
     "output_type": "execute_result"
    },
    {
     "data": {
      "image/png": "iVBORw0KGgoAAAANSUhEUgAAAfQAAAHWCAYAAACBsnu3AAAABHNCSVQICAgIfAhkiAAAAAlwSFlz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\njAAAAABJRU5ErkJggg==\n",
      "text/plain": [
       "<matplotlib.figure.Figure at 0x11a2642d0>"
      ]
     },
     "metadata": {},
     "output_type": "display_data"
    }
   ],
=======
   "execution_count": null,
   "metadata": {
    "collapsed": false
   },
   "outputs": [],
>>>>>>> upstream/master
   "source": [
    "plt.figure(figsize = (8, 8))\n",
    "plt.xlim((truth_df.x.min(), truth_df.x.max()))\n",
    "plt.ylim((-2, 2))\n",
    "\n",
    "plt.plot(truth_df.x, truth_df.y, color = 'green', label = 'truth')\n",
    "plt.scatter(train_X.x, train_y, s = 10, label = 'train')\n",
    "\n",
    "for i, alpha in enumerate(alphas):\n",
    "    X = truth_df[ ['x'] ]\n",
    "    y_hat = models[i].predict(X)\n",
    "    plt.plot(X.x, y_hat, label = 'alpha = {}'.format(alpha))\n",
    "\n",
    "plt.legend()"
   ]
  },
  {
   "cell_type": "code",
<<<<<<< HEAD
   "execution_count": 39,
   "metadata": {
    "collapsed": false
   },
   "outputs": [
    {
     "data": {
      "text/html": [
       "<div>\n",
       "<table border=\"1\" class=\"dataframe\">\n",
       "  <thead>\n",
       "    <tr style=\"text-align: right;\">\n",
       "      <th></th>\n",
       "      <th>R^2 (train)</th>\n",
       "      <th>R^2 (test)</th>\n",
       "      <th>Complexity</th>\n",
       "    </tr>\n",
       "    <tr>\n",
       "      <th>alpha</th>\n",
       "      <th></th>\n",
       "      <th></th>\n",
       "      <th></th>\n",
       "    </tr>\n",
       "  </thead>\n",
       "  <tbody>\n",
       "    <tr>\n",
       "      <th>1.000000e-01</th>\n",
       "      <td>0.241983</td>\n",
       "      <td>0.237192</td>\n",
       "      <td>0.640214</td>\n",
       "    </tr>\n",
       "    <tr>\n",
       "      <th>1.000000e-02</th>\n",
       "      <td>0.701186</td>\n",
       "      <td>0.651788</td>\n",
       "      <td>6.188723</td>\n",
       "    </tr>\n",
       "    <tr>\n",
       "      <th>1.000000e-03</th>\n",
       "      <td>0.870524</td>\n",
       "      <td>0.790604</td>\n",
       "      <td>32.465307</td>\n",
       "    </tr>\n",
       "    <tr>\n",
       "      <th>1.000000e-05</th>\n",
       "      <td>0.895161</td>\n",
       "      <td>0.807674</td>\n",
       "      <td>52.645937</td>\n",
       "    </tr>\n",
       "    <tr>\n",
       "      <th>1.000000e-07</th>\n",
       "      <td>0.895343</td>\n",
       "      <td>0.807812</td>\n",
       "      <td>53.052375</td>\n",
       "    </tr>\n",
       "    <tr>\n",
       "      <th>1.000000e-09</th>\n",
       "      <td>0.895345</td>\n",
       "      <td>0.807814</td>\n",
       "      <td>53.056405</td>\n",
       "    </tr>\n",
       "    <tr>\n",
       "      <th>1.000000e-11</th>\n",
       "      <td>0.895345</td>\n",
       "      <td>0.807814</td>\n",
       "      <td>53.056445</td>\n",
       "    </tr>\n",
       "  </tbody>\n",
       "</table>\n",
       "</div>"
      ],
      "text/plain": [
       "              R^2 (train)  R^2 (test)  Complexity\n",
       "alpha                                            \n",
       "1.000000e-01     0.241983    0.237192    0.640214\n",
       "1.000000e-02     0.701186    0.651788    6.188723\n",
       "1.000000e-03     0.870524    0.790604   32.465307\n",
       "1.000000e-05     0.895161    0.807674   52.645937\n",
       "1.000000e-07     0.895343    0.807812   53.052375\n",
       "1.000000e-09     0.895345    0.807814   53.056405\n",
       "1.000000e-11     0.895345    0.807814   53.056445"
      ]
     },
     "execution_count": 39,
     "metadata": {},
     "output_type": "execute_result"
    }
   ],
=======
   "execution_count": null,
   "metadata": {
    "collapsed": false
   },
   "outputs": [],
>>>>>>> upstream/master
   "source": [
    "model_df = pd.DataFrame({'alpha': alphas, 'model': models})\n",
    "model_df['R^2 (train)'] = model_df.model.apply(lambda model: model.score(train_X, train_y))\n",
    "model_df['R^2 (test)'] = model_df.model.apply(lambda model: model.score(test_X, test_y))\n",
    "model_df['Complexity'] = model_df.model.apply(lambda model: model.complexity())\n",
    "\n",
    "model_df.drop('model', axis = 1).set_index('alpha')"
   ]
  },
  {
   "cell_type": "code",
<<<<<<< HEAD
   "execution_count": 40,
   "metadata": {
    "collapsed": false
   },
   "outputs": [
    {
     "data": {
      "text/plain": [
       "array([  0.        ,  10.74187492, -22.72776733,   0.137857  ,\n",
       "         5.48304531,   4.93374986,   3.17555785,   1.61040409,\n",
       "         0.51386873,  -0.15911981,  -0.51759782,  -0.66237011,\n",
       "        -0.67090868,  -0.59844541,  -0.48267566,  -0.34843419,\n",
       "        -0.21147347,  -0.0812949 ])"
      ]
     },
     "execution_count": 40,
     "metadata": {},
     "output_type": "execute_result"
    }
   ],
   "source": [
    "models[-1].model.coef_"
   ]
  },
  {
   "cell_type": "code",
   "execution_count": null,
   "metadata": {
    "collapsed": true
   },
   "outputs": [],
   "source": []
  },
  {
   "cell_type": "code",
   "execution_count": null,
   "metadata": {
    "collapsed": true
   },
   "outputs": [],
   "source": []
=======
   "execution_count": null,
   "metadata": {
    "collapsed": false
   },
   "outputs": [],
   "source": [
    "models[-1].model.coef_"
   ]
>>>>>>> upstream/master
  }
 ],
 "metadata": {
  "kernelspec": {
   "display_name": "Python 2",
   "language": "python",
   "name": "python2"
  },
  "language_info": {
   "codemirror_mode": {
    "name": "ipython",
    "version": 2
   },
   "file_extension": ".py",
   "mimetype": "text/x-python",
   "name": "python",
   "nbconvert_exporter": "python",
   "pygments_lexer": "ipython2",
   "version": "2.7.13"
  }
 },
 "nbformat": 4,
 "nbformat_minor": 0
<<<<<<< HEAD
}
=======
}
>>>>>>> upstream/master
