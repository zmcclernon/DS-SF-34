{
 "cells": [
  {
   "cell_type": "markdown",
   "metadata": {},
   "source": [
    "# DS-SF-34 | 03 | Databases, Scrapping, and APIs | Codealong | Starter Code"
   ]
  },
  {
   "cell_type": "markdown",
   "metadata": {},
   "source": [
    "# Part A | RDBMS Databases and `SQLite`"
   ]
  },
  {
   "cell_type": "code",
   "execution_count": 1,
   "metadata": {
    "collapsed": false
   },
   "outputs": [],
   "source": [
    "import os\n",
    "\n",
    "import pandas as pd\n",
    "pd.set_option('display.max_rows', 10)\n",
    "pd.set_option('display.notebook_repr_html', True)\n",
    "pd.set_option('display.max_columns', 10)\n",
    "\n",
    "import sqlite3"
   ]
  },
  {
   "cell_type": "markdown",
   "metadata": {},
   "source": [
    "> ### How to connect to a `SQLite` database"
   ]
  },
  {
   "cell_type": "code",
   "execution_count": 2,
   "metadata": {
    "collapsed": false
   },
   "outputs": [],
   "source": [
    "db = sqlite3.connect(os.path.join('..', 'datasets', 'dataset-03-zillow.db'))"
   ]
  },
  {
   "cell_type": "markdown",
   "metadata": {},
   "source": [
    "> ### How to use `pandas` to run SQL queries and get the results as a `DataFrame`"
   ]
  },
  {
   "cell_type": "code",
   "execution_count": 3,
   "metadata": {
    "collapsed": false
   },
   "outputs": [
    {
     "data": {
      "text/html": [
       "<div>\n",
       "<table border=\"1\" class=\"dataframe\">\n",
       "  <thead>\n",
       "    <tr style=\"text-align: right;\">\n",
       "      <th></th>\n",
       "      <th>id</th>\n",
       "      <th>address</th>\n",
       "      <th>latitude</th>\n",
       "      <th>longitude</th>\n",
       "      <th>is_a_studio</th>\n",
       "      <th>...</th>\n",
       "      <th>size</th>\n",
       "      <th>size_unit</th>\n",
       "      <th>lot_size</th>\n",
       "      <th>lot_size_unit</th>\n",
       "      <th>built_in_year</th>\n",
       "    </tr>\n",
       "  </thead>\n",
       "  <tbody>\n",
       "    <tr>\n",
       "      <th>0</th>\n",
       "      <td>15063471</td>\n",
       "      <td>55 Vandewater St APT 9, San Francisco, CA</td>\n",
       "      <td>37805103</td>\n",
       "      <td>-122412856</td>\n",
       "      <td>0</td>\n",
       "      <td>...</td>\n",
       "      <td>550.0</td>\n",
       "      <td>sqft</td>\n",
       "      <td>NaN</td>\n",
       "      <td>None</td>\n",
       "      <td>1980.0</td>\n",
       "    </tr>\n",
       "    <tr>\n",
       "      <th>1</th>\n",
       "      <td>15063505</td>\n",
       "      <td>740 Francisco St, San Francisco, CA</td>\n",
       "      <td>37804420</td>\n",
       "      <td>-122417389</td>\n",
       "      <td>0</td>\n",
       "      <td>...</td>\n",
       "      <td>1430.0</td>\n",
       "      <td>sqft</td>\n",
       "      <td>2435.0</td>\n",
       "      <td>sqft</td>\n",
       "      <td>1948.0</td>\n",
       "    </tr>\n",
       "    <tr>\n",
       "      <th>2</th>\n",
       "      <td>15063609</td>\n",
       "      <td>819 Francisco St, San Francisco, CA</td>\n",
       "      <td>37803728</td>\n",
       "      <td>-122419055</td>\n",
       "      <td>0</td>\n",
       "      <td>...</td>\n",
       "      <td>2040.0</td>\n",
       "      <td>sqft</td>\n",
       "      <td>3920.0</td>\n",
       "      <td>sqft</td>\n",
       "      <td>1976.0</td>\n",
       "    </tr>\n",
       "    <tr>\n",
       "      <th>3</th>\n",
       "      <td>15064044</td>\n",
       "      <td>199 Chestnut St APT 5, San Francisco, CA</td>\n",
       "      <td>37804392</td>\n",
       "      <td>-122406590</td>\n",
       "      <td>0</td>\n",
       "      <td>...</td>\n",
       "      <td>1060.0</td>\n",
       "      <td>sqft</td>\n",
       "      <td>NaN</td>\n",
       "      <td>None</td>\n",
       "      <td>1930.0</td>\n",
       "    </tr>\n",
       "    <tr>\n",
       "      <th>4</th>\n",
       "      <td>15064257</td>\n",
       "      <td>111 Chestnut St APT 403, San Francisco, CA</td>\n",
       "      <td>37804240</td>\n",
       "      <td>-122405509</td>\n",
       "      <td>0</td>\n",
       "      <td>...</td>\n",
       "      <td>1299.0</td>\n",
       "      <td>sqft</td>\n",
       "      <td>NaN</td>\n",
       "      <td>None</td>\n",
       "      <td>1993.0</td>\n",
       "    </tr>\n",
       "    <tr>\n",
       "      <th>5</th>\n",
       "      <td>15064295</td>\n",
       "      <td>111 Chestnut St APT 702, San Francisco, CA</td>\n",
       "      <td>37804240</td>\n",
       "      <td>-122405509</td>\n",
       "      <td>0</td>\n",
       "      <td>...</td>\n",
       "      <td>1033.0</td>\n",
       "      <td>sqft</td>\n",
       "      <td>NaN</td>\n",
       "      <td>None</td>\n",
       "      <td>1993.0</td>\n",
       "    </tr>\n",
       "    <tr>\n",
       "      <th>6</th>\n",
       "      <td>15064391</td>\n",
       "      <td>1821 Grant Ave APT 101, San Francisco, CA</td>\n",
       "      <td>37803748</td>\n",
       "      <td>-122408531</td>\n",
       "      <td>0</td>\n",
       "      <td>...</td>\n",
       "      <td>1048.0</td>\n",
       "      <td>sqft</td>\n",
       "      <td>NaN</td>\n",
       "      <td>None</td>\n",
       "      <td>1975.0</td>\n",
       "    </tr>\n",
       "    <tr>\n",
       "      <th>7</th>\n",
       "      <td>15064536</td>\n",
       "      <td>2300 Leavenworth St, San Francisco, CA</td>\n",
       "      <td>37802408</td>\n",
       "      <td>-122417537</td>\n",
       "      <td>0</td>\n",
       "      <td>...</td>\n",
       "      <td>2115.0</td>\n",
       "      <td>sqft</td>\n",
       "      <td>1271.0</td>\n",
       "      <td>sqft</td>\n",
       "      <td>1913.0</td>\n",
       "    </tr>\n",
       "    <tr>\n",
       "      <th>8</th>\n",
       "      <td>15064640</td>\n",
       "      <td>1047-1049 Lombard St, San Francisco, CA</td>\n",
       "      <td>37801889</td>\n",
       "      <td>-122418704</td>\n",
       "      <td>1</td>\n",
       "      <td>...</td>\n",
       "      <td>4102.0</td>\n",
       "      <td>sqft</td>\n",
       "      <td>3049.0</td>\n",
       "      <td>sqft</td>\n",
       "      <td>1948.0</td>\n",
       "    </tr>\n",
       "    <tr>\n",
       "      <th>9</th>\n",
       "      <td>15064669</td>\n",
       "      <td>1055 Lombard St # C, San Francisco, CA</td>\n",
       "      <td>37801873</td>\n",
       "      <td>-122418834</td>\n",
       "      <td>0</td>\n",
       "      <td>...</td>\n",
       "      <td>1182.0</td>\n",
       "      <td>sqft</td>\n",
       "      <td>NaN</td>\n",
       "      <td>None</td>\n",
       "      <td>1986.0</td>\n",
       "    </tr>\n",
       "  </tbody>\n",
       "</table>\n",
       "<p>10 rows × 12 columns</p>\n",
       "</div>"
      ],
      "text/plain": [
       "         id                                     address  latitude  longitude  \\\n",
       "0  15063471   55 Vandewater St APT 9, San Francisco, CA  37805103 -122412856   \n",
       "1  15063505         740 Francisco St, San Francisco, CA  37804420 -122417389   \n",
       "2  15063609         819 Francisco St, San Francisco, CA  37803728 -122419055   \n",
       "3  15064044    199 Chestnut St APT 5, San Francisco, CA  37804392 -122406590   \n",
       "4  15064257  111 Chestnut St APT 403, San Francisco, CA  37804240 -122405509   \n",
       "5  15064295  111 Chestnut St APT 702, San Francisco, CA  37804240 -122405509   \n",
       "6  15064391   1821 Grant Ave APT 101, San Francisco, CA  37803748 -122408531   \n",
       "7  15064536      2300 Leavenworth St, San Francisco, CA  37802408 -122417537   \n",
       "8  15064640     1047-1049 Lombard St, San Francisco, CA  37801889 -122418704   \n",
       "9  15064669      1055 Lombard St # C, San Francisco, CA  37801873 -122418834   \n",
       "\n",
       "   is_a_studio      ...          size  size_unit  lot_size lot_size_unit  \\\n",
       "0            0      ...         550.0       sqft       NaN          None   \n",
       "1            0      ...        1430.0       sqft    2435.0          sqft   \n",
       "2            0      ...        2040.0       sqft    3920.0          sqft   \n",
       "3            0      ...        1060.0       sqft       NaN          None   \n",
       "4            0      ...        1299.0       sqft       NaN          None   \n",
       "5            0      ...        1033.0       sqft       NaN          None   \n",
       "6            0      ...        1048.0       sqft       NaN          None   \n",
       "7            0      ...        2115.0       sqft    1271.0          sqft   \n",
       "8            1      ...        4102.0       sqft    3049.0          sqft   \n",
       "9            0      ...        1182.0       sqft       NaN          None   \n",
       "\n",
       "   built_in_year  \n",
       "0         1980.0  \n",
       "1         1948.0  \n",
       "2         1976.0  \n",
       "3         1930.0  \n",
       "4         1993.0  \n",
       "5         1993.0  \n",
       "6         1975.0  \n",
       "7         1913.0  \n",
       "8         1948.0  \n",
       "9         1986.0  \n",
       "\n",
       "[10 rows x 12 columns]"
      ]
     },
     "execution_count": 3,
     "metadata": {},
     "output_type": "execute_result"
    }
   ],
   "source": [
    "pd.io.sql.read_sql(\n",
    "'''\n",
    "SELECT *\n",
    "    FROM properties\n",
    "    LIMIT 10\n",
    ";\n",
    "''', con = db)"
   ]
  },
  {
   "cell_type": "markdown",
   "metadata": {},
   "source": [
    "### `SELECT`"
   ]
  },
  {
   "cell_type": "code",
   "execution_count": null,
   "metadata": {
    "collapsed": false
   },
   "outputs": [],
   "source": [
    "pd.io.sql.read_sql(\n",
    "'''\n",
    "SELECT id, sale_price, sale_price_unit\n",
    "    FROM transactions\n",
    ";\n",
    "''', con = db)"
   ]
  },
  {
   "cell_type": "markdown",
   "metadata": {},
   "source": [
    "### `WHERE`"
   ]
  },
  {
   "cell_type": "code",
   "execution_count": null,
   "metadata": {
    "collapsed": false
   },
   "outputs": [],
   "source": [
    "pd.io.sql.read_sql(\n",
    "'''\n",
    "SELECT id, sale_price\n",
    "    FROM transactions\n",
    "    WHERE sale_price_unit = '$M'\n",
    ";\n",
    "''', con = db)"
   ]
  },
  {
   "cell_type": "markdown",
   "metadata": {},
   "source": [
    "> #### Here's let's convert the unit of `sale_price` from \\$ to \\$M"
   ]
  },
  {
   "cell_type": "code",
   "execution_count": null,
   "metadata": {
    "collapsed": false
   },
   "outputs": [],
   "source": [
    "pd.io.sql.read_sql(\n",
    "'''\n",
    "SELECT id, sale_price / 1000000 AS sale_price\n",
    "    FROM transactions\n",
    "    WHERE sale_price_unit = '$'\n",
    ";\n",
    "''', con = db)"
   ]
  },
  {
   "cell_type": "markdown",
   "metadata": {},
   "source": [
    "### `UNION`"
   ]
  },
  {
   "cell_type": "markdown",
   "metadata": {},
   "source": [
    "> #### Let's combine the previous two queries into one.  `sale_price` is now in \\$M accross the dataset"
   ]
  },
  {
   "cell_type": "code",
   "execution_count": null,
   "metadata": {
    "collapsed": false
   },
   "outputs": [],
   "source": [
    "pd.io.sql.read_sql('''\n",
    "SELECT id, sale_price / 1000000 AS sale_price\n",
    "    FROM transactions\n",
    "    WHERE sale_price_unit = '$'\n",
    "UNION ALL\n",
    "SELECT id, sale_price\n",
    "    FROM transactions\n",
    "    WHERE sale_price_unit = '$M'\n",
    ";\n",
    "''', con = db)"
   ]
  },
  {
   "cell_type": "markdown",
   "metadata": {},
   "source": [
    "### `WITH`"
   ]
  },
  {
   "cell_type": "code",
   "execution_count": null,
   "metadata": {
    "collapsed": false
   },
   "outputs": [],
   "source": [
    "pd.io.sql.read_sql(\n",
    "'''\n",
    "WITH normalized_sale_prices AS\n",
    "    (SELECT id, sale_price / 1000000 AS sale_price\n",
    "        FROM transactions\n",
    "        WHERE sale_price_unit = '$'\n",
    "    UNION ALL\n",
    "    SELECT id, sale_price\n",
    "        FROM transactions\n",
    "        WHERE sale_price_unit = '$M')\n",
    "\n",
    "SELECT *\n",
    "    FROM normalized_sale_prices\n",
    ";\n",
    "''', con = db)"
   ]
  },
  {
   "cell_type": "markdown",
   "metadata": {},
   "source": [
    "### `JOIN`"
   ]
  },
  {
   "cell_type": "code",
   "execution_count": null,
   "metadata": {
    "collapsed": false
   },
   "outputs": [],
   "source": [
    "pd.io.sql.read_sql(\n",
    "'''\n",
    "WITH normalized_sale_prices AS\n",
    "    (SELECT id, sale_price / 1000000 AS sale_price\n",
    "        FROM transactions\n",
    "        WHERE sale_price_unit = '$'\n",
    "    UNION ALL\n",
    "    SELECT id, sale_price\n",
    "        FROM transactions\n",
    "        WHERE sale_price_unit = '$M')\n",
    "\n",
    "SELECT properties.beds AS beds, normalized_sale_prices.sale_price AS sale_price\n",
    "    FROM properties\n",
    "    JOIN normalized_sale_prices\n",
    "        ON normalized_sale_prices.id = properties.id\n",
    ";\n",
    "''', con = db)"
   ]
  },
  {
   "cell_type": "markdown",
   "metadata": {},
   "source": [
    "### `WITH` (take 2)"
   ]
  },
  {
   "cell_type": "code",
   "execution_count": null,
   "metadata": {
    "collapsed": false
   },
   "outputs": [],
   "source": [
    "pd.io.sql.read_sql(\n",
    "'''\n",
    "WITH normalized_sale_prices AS\n",
    "    (SELECT id, sale_price / 1000000 AS sale_price\n",
    "        FROM transactions\n",
    "        WHERE sale_price_unit = '$'\n",
    "    UNION ALL\n",
    "    SELECT id, sale_price\n",
    "        FROM transactions\n",
    "        WHERE sale_price_unit = '$M'),\n",
    "\n",
    "beds_normalized_sale_prices AS\n",
    "    (SELECT properties.beds AS beds, normalized_sale_prices.sale_price AS sale_price\n",
    "        FROM properties\n",
    "        JOIN normalized_sale_prices\n",
    "            ON normalized_sale_prices.id = properties.id)\n",
    "\n",
    "SELECT *\n",
    "    FROM beds_normalized_sale_prices\n",
    ";\n",
    "''', con = db)"
   ]
  },
  {
   "cell_type": "markdown",
   "metadata": {},
   "source": [
    "### `GROUP BY` and `AVG`"
   ]
  },
  {
   "cell_type": "markdown",
   "metadata": {},
   "source": [
    "> ### Let's now compute the average sale price of these properties based on their number of bedrooms"
   ]
  },
  {
   "cell_type": "code",
   "execution_count": null,
   "metadata": {
    "collapsed": false
   },
   "outputs": [],
   "source": [
    "pd.io.sql.read_sql(\n",
    "'''\n",
    "WITH normalized_sale_prices AS\n",
    "    (SELECT id, sale_price / 1000000 AS sale_price\n",
    "        FROM transactions\n",
    "        WHERE sale_price_unit = '$'\n",
    "    UNION ALL\n",
    "    SELECT id, sale_price\n",
    "        FROM transactions\n",
    "        WHERE sale_price_unit = '$M'),\n",
    "\n",
    "beds_normalized_sale_prices AS\n",
    "    (SELECT properties.beds AS beds, normalized_sale_prices.sale_price AS sale_price\n",
    "        FROM properties\n",
    "        JOIN normalized_sale_prices\n",
    "            ON normalized_sale_prices.id = properties.id)\n",
    "\n",
    "SELECT AVG(sale_price) AS mean_sale_price\n",
    "    FROM beds_normalized_sale_prices\n",
    "    GROUP BY beds\n",
    ";\n",
    "''', con = db)"
   ]
  },
  {
   "cell_type": "markdown",
   "metadata": {},
   "source": [
    "Note: `beds = 0` usually refers to studios but not always..."
   ]
  },
  {
   "cell_type": "markdown",
   "metadata": {},
   "source": [
    "> ### Activity\n",
    "> #### Compute the average sales price of studios"
   ]
  },
  {
   "cell_type": "code",
   "execution_count": null,
   "metadata": {
    "collapsed": false
   },
   "outputs": [],
   "source": [
    "# TODO"
   ]
  },
  {
   "cell_type": "markdown",
   "metadata": {},
   "source": [
    "> ### Activity\n",
    "> #### Find the properties in the dataset that have different addresses but the same latitude/longitude.  Return the smallest set of pair of properties (`address_a`, `address_b`)"
   ]
  },
  {
   "cell_type": "code",
   "execution_count": null,
   "metadata": {
    "collapsed": false
   },
   "outputs": [],
   "source": [
    "# TODO"
   ]
  }
 ],
 "metadata": {
  "kernelspec": {
   "display_name": "Python 2",
   "language": "python",
   "name": "python2"
  },
  "language_info": {
   "codemirror_mode": {
    "name": "ipython",
    "version": 2
   },
   "file_extension": ".py",
   "mimetype": "text/x-python",
   "name": "python",
   "nbconvert_exporter": "python",
   "pygments_lexer": "ipython2",
   "version": "2.7.13"
  }
 },
 "nbformat": 4,
 "nbformat_minor": 0
}
