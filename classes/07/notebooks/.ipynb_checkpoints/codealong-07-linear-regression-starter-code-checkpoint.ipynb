{
 "cells": [
  {
   "cell_type": "markdown",
   "metadata": {},
   "source": [
    "# DS-SF-34 | 07 | Linear Regression | Codealong | Starter Code"
   ]
  },
  {
   "cell_type": "code",
   "execution_count": 1,
   "metadata": {
    "collapsed": false
   },
   "outputs": [],
   "source": [
    "import os\n",
    "\n",
    "import numpy as np\n",
    "\n",
    "import pandas as pd\n",
    "pd.set_option('display.max_rows', 10)\n",
    "pd.set_option('display.notebook_repr_html', True)\n",
    "pd.set_option('display.max_columns', 10)\n",
    "\n",
    "import statsmodels.api as sm\n",
    "import statsmodels.formula.api as smf\n",
    "\n",
    "import matplotlib.pyplot as plt\n",
    "%matplotlib inline\n",
    "plt.style.use('ggplot')\n",
    "\n",
    "import scipy.stats as stats"
   ]
  },
  {
   "cell_type": "code",
   "execution_count": 2,
   "metadata": {
    "collapsed": false
   },
   "outputs": [],
   "source": [
    "def read_dataset():\n",
    "    return pd.read_csv(os.path.join('..', 'datasets', 'dataset-07-zillow.csv'), index_col = 'ID')\n",
    "\n",
    "df = read_dataset()"
   ]
  },
  {
   "cell_type": "code",
   "execution_count": 6,
   "metadata": {
    "collapsed": false
   },
   "outputs": [
    {
     "data": {
      "text/html": [
       "<div>\n",
       "<table border=\"1\" class=\"dataframe\">\n",
       "  <thead>\n",
       "    <tr style=\"text-align: right;\">\n",
       "      <th></th>\n",
       "      <th>SalePrice</th>\n",
       "      <th>Size</th>\n",
       "    </tr>\n",
       "    <tr>\n",
       "      <th>ID</th>\n",
       "      <th></th>\n",
       "      <th></th>\n",
       "    </tr>\n",
       "  </thead>\n",
       "  <tbody>\n",
       "    <tr>\n",
       "      <th>15063471</th>\n",
       "      <td>0.710</td>\n",
       "      <td>0.550</td>\n",
       "    </tr>\n",
       "    <tr>\n",
       "      <th>15063505</th>\n",
       "      <td>2.150</td>\n",
       "      <td>1.430</td>\n",
       "    </tr>\n",
       "    <tr>\n",
       "      <th>15063609</th>\n",
       "      <td>5.600</td>\n",
       "      <td>2.040</td>\n",
       "    </tr>\n",
       "    <tr>\n",
       "      <th>15064044</th>\n",
       "      <td>1.500</td>\n",
       "      <td>1.060</td>\n",
       "    </tr>\n",
       "    <tr>\n",
       "      <th>15064257</th>\n",
       "      <td>0.970</td>\n",
       "      <td>1.299</td>\n",
       "    </tr>\n",
       "    <tr>\n",
       "      <th>...</th>\n",
       "      <td>...</td>\n",
       "      <td>...</td>\n",
       "    </tr>\n",
       "    <tr>\n",
       "      <th>2124214951</th>\n",
       "      <td>0.390</td>\n",
       "      <td>0.264</td>\n",
       "    </tr>\n",
       "    <tr>\n",
       "      <th>2126960082</th>\n",
       "      <td>0.860</td>\n",
       "      <td>0.691</td>\n",
       "    </tr>\n",
       "    <tr>\n",
       "      <th>2128308939</th>\n",
       "      <td>0.830</td>\n",
       "      <td>1.738</td>\n",
       "    </tr>\n",
       "    <tr>\n",
       "      <th>2131957929</th>\n",
       "      <td>0.835</td>\n",
       "      <td>1.048</td>\n",
       "    </tr>\n",
       "    <tr>\n",
       "      <th>2136213970</th>\n",
       "      <td>0.825</td>\n",
       "      <td>0.900</td>\n",
       "    </tr>\n",
       "  </tbody>\n",
       "</table>\n",
       "<p>1000 rows × 2 columns</p>\n",
       "</div>"
      ],
      "text/plain": [
       "            SalePrice   Size\n",
       "ID                          \n",
       "15063471        0.710  0.550\n",
       "15063505        2.150  1.430\n",
       "15063609        5.600  2.040\n",
       "15064044        1.500  1.060\n",
       "15064257        0.970  1.299\n",
       "...               ...    ...\n",
       "2124214951      0.390  0.264\n",
       "2126960082      0.860  0.691\n",
       "2128308939      0.830  1.738\n",
       "2131957929      0.835  1.048\n",
       "2136213970      0.825  0.900\n",
       "\n",
       "[1000 rows x 2 columns]"
      ]
     },
     "execution_count": 6,
     "metadata": {},
     "output_type": "execute_result"
    }
   ],
   "source": [
    "# TODO\n",
    "\n",
    "df[ ['SalePrice', 'Size'] ]"
   ]
  },
  {
   "cell_type": "markdown",
   "metadata": {},
   "source": [
    "## Scale `Size` and `LotSize` from sqft to '1,000 sqft'"
   ]
  },
  {
   "cell_type": "code",
   "execution_count": 4,
   "metadata": {
    "collapsed": false
   },
   "outputs": [],
   "source": [
    "def scale_variables(df):\n",
    "    df.Size /= 10 ** 3 # Size in 1,000 sqft\n",
    "    df.LotSize /= 10 ** 3 # Lot size in 1,000 sqft\n",
    "\n",
    "scale_variables(df)"
   ]
  },
  {
   "cell_type": "code",
   "execution_count": 5,
   "metadata": {
    "collapsed": false,
    "scrolled": true
   },
   "outputs": [
    {
     "data": {
      "text/html": [
       "<div>\n",
       "<table border=\"1\" class=\"dataframe\">\n",
       "  <thead>\n",
       "    <tr style=\"text-align: right;\">\n",
       "      <th></th>\n",
       "      <th>Size</th>\n",
       "      <th>LotSize</th>\n",
       "    </tr>\n",
       "    <tr>\n",
       "      <th>ID</th>\n",
       "      <th></th>\n",
       "      <th></th>\n",
       "    </tr>\n",
       "  </thead>\n",
       "  <tbody>\n",
       "    <tr>\n",
       "      <th>15063471</th>\n",
       "      <td>0.550</td>\n",
       "      <td>NaN</td>\n",
       "    </tr>\n",
       "    <tr>\n",
       "      <th>15063505</th>\n",
       "      <td>1.430</td>\n",
       "      <td>2.435</td>\n",
       "    </tr>\n",
       "    <tr>\n",
       "      <th>15063609</th>\n",
       "      <td>2.040</td>\n",
       "      <td>3.920</td>\n",
       "    </tr>\n",
       "    <tr>\n",
       "      <th>15064044</th>\n",
       "      <td>1.060</td>\n",
       "      <td>NaN</td>\n",
       "    </tr>\n",
       "    <tr>\n",
       "      <th>15064257</th>\n",
       "      <td>1.299</td>\n",
       "      <td>NaN</td>\n",
       "    </tr>\n",
       "    <tr>\n",
       "      <th>...</th>\n",
       "      <td>...</td>\n",
       "      <td>...</td>\n",
       "    </tr>\n",
       "    <tr>\n",
       "      <th>2124214951</th>\n",
       "      <td>0.264</td>\n",
       "      <td>NaN</td>\n",
       "    </tr>\n",
       "    <tr>\n",
       "      <th>2126960082</th>\n",
       "      <td>0.691</td>\n",
       "      <td>NaN</td>\n",
       "    </tr>\n",
       "    <tr>\n",
       "      <th>2128308939</th>\n",
       "      <td>1.738</td>\n",
       "      <td>2.299</td>\n",
       "    </tr>\n",
       "    <tr>\n",
       "      <th>2131957929</th>\n",
       "      <td>1.048</td>\n",
       "      <td>NaN</td>\n",
       "    </tr>\n",
       "    <tr>\n",
       "      <th>2136213970</th>\n",
       "      <td>0.900</td>\n",
       "      <td>NaN</td>\n",
       "    </tr>\n",
       "  </tbody>\n",
       "</table>\n",
       "<p>1000 rows × 2 columns</p>\n",
       "</div>"
      ],
      "text/plain": [
       "             Size  LotSize\n",
       "ID                        \n",
       "15063471    0.550      NaN\n",
       "15063505    1.430    2.435\n",
       "15063609    2.040    3.920\n",
       "15064044    1.060      NaN\n",
       "15064257    1.299      NaN\n",
       "...           ...      ...\n",
       "2124214951  0.264      NaN\n",
       "2126960082  0.691      NaN\n",
       "2128308939  1.738    2.299\n",
       "2131957929  1.048      NaN\n",
       "2136213970  0.900      NaN\n",
       "\n",
       "[1000 rows x 2 columns]"
      ]
     },
     "execution_count": 5,
     "metadata": {},
     "output_type": "execute_result"
    }
   ],
   "source": [
    "df[ ['Size', 'LotSize'] ]"
   ]
  },
  {
   "cell_type": "markdown",
   "metadata": {},
   "source": [
    "## Part A | Linear Regression with _statsmodels_' `OLS`"
   ]
  },
  {
   "cell_type": "markdown",
   "metadata": {},
   "source": [
    "- (http://statsmodels.sourceforge.net/devel/generated/statsmodels.regression.linear_model.OLS.html)"
   ]
  },
  {
   "cell_type": "markdown",
   "metadata": {},
   "source": [
    "### `SalePrice` as a function of `Size`"
   ]
  },
  {
   "cell_type": "code",
   "execution_count": null,
   "metadata": {
    "collapsed": false
   },
   "outputs": [],
   "source": [
    "def Xy(df):\n",
    "    # TODO: X\n",
    "    # TODO: y\n",
    "\n",
    "    return X, y\n",
    "\n",
    "X, y = Xy(df)\n",
    "\n",
    "model = smf.OLS(y, X).fit()\n",
    "\n",
    "model.summary()"
   ]
  },
  {
   "cell_type": "markdown",
   "metadata": {},
   "source": [
    "### `SalePrice` as a function of `Size` - Take 2"
   ]
  },
  {
   "cell_type": "code",
   "execution_count": null,
   "metadata": {
    "collapsed": false
   },
   "outputs": [],
   "source": [
    "def Xy_2(df):\n",
    "    # TODO: X\n",
    "    # TODO: y\n",
    "\n",
    "    return X, y\n",
    "\n",
    "X, y = Xy_2(df)\n",
    "\n",
    "model = smf.OLS(y, X).fit()\n",
    "\n",
    "model.summary()"
   ]
  },
  {
   "cell_type": "markdown",
   "metadata": {},
   "source": [
    "### `SalePrice` as a function of `Size` - Take 3"
   ]
  },
  {
   "cell_type": "markdown",
   "metadata": {},
   "source": [
    "- (http://statsmodels.sourceforge.net/devel/generated/statsmodels.tools.tools.add_constant.html)"
   ]
  },
  {
   "cell_type": "code",
   "execution_count": null,
   "metadata": {
    "collapsed": false
   },
   "outputs": [],
   "source": [
    "def Xy_3(df):\n",
    "    # TODO: X\n",
    "    # TODO: y\n",
    "\n",
    "    return X, y\n",
    "\n",
    "X, y = Xy_3(df)\n",
    "\n",
    "model = smf.OLS(y, X).fit()\n",
    "\n",
    "model.summary()"
   ]
  },
  {
   "cell_type": "markdown",
   "metadata": {},
   "source": [
    "### Making predictions"
   ]
  },
  {
   "cell_type": "code",
   "execution_count": null,
   "metadata": {
    "collapsed": true
   },
   "outputs": [],
   "source": [
    "predict_X = pd.DataFrame({'Size': [1.2, 1.4, 1.6]}, columns = ['Size'])\n",
    "predict_X = sm.add_constant(predict_X)"
   ]
  },
  {
   "cell_type": "code",
   "execution_count": null,
   "metadata": {
    "collapsed": false
   },
   "outputs": [],
   "source": [
    "predict_X"
   ]
  },
  {
   "cell_type": "code",
   "execution_count": null,
   "metadata": {
    "collapsed": false
   },
   "outputs": [],
   "source": [
    "predict_y = model.predict(predict_X)"
   ]
  },
  {
   "cell_type": "code",
   "execution_count": null,
   "metadata": {
    "collapsed": false
   },
   "outputs": [],
   "source": [
    "predict_y"
   ]
  },
  {
   "cell_type": "code",
   "execution_count": null,
   "metadata": {
    "collapsed": false
   },
   "outputs": [],
   "source": [
    "type(predict_y)"
   ]
  },
  {
   "cell_type": "markdown",
   "metadata": {},
   "source": [
    "### Model's parameters"
   ]
  },
  {
   "cell_type": "code",
   "execution_count": null,
   "metadata": {
    "collapsed": false
   },
   "outputs": [],
   "source": [
    "# TODO"
   ]
  },
  {
   "cell_type": "markdown",
   "metadata": {},
   "source": [
    "### t-values"
   ]
  },
  {
   "cell_type": "code",
   "execution_count": null,
   "metadata": {
    "collapsed": false
   },
   "outputs": [],
   "source": [
    "# TODO"
   ]
  },
  {
   "cell_type": "markdown",
   "metadata": {},
   "source": [
    "### p-values"
   ]
  },
  {
   "cell_type": "code",
   "execution_count": null,
   "metadata": {
    "collapsed": false
   },
   "outputs": [],
   "source": [
    "# TODO"
   ]
  },
  {
   "cell_type": "markdown",
   "metadata": {},
   "source": [
    "### Confidence Intervals"
   ]
  },
  {
   "cell_type": "code",
   "execution_count": null,
   "metadata": {
    "collapsed": false
   },
   "outputs": [],
   "source": [
    "# TODO"
   ]
  },
  {
   "cell_type": "markdown",
   "metadata": {},
   "source": [
    "## Part B | The 68 - 90 - 95 - 99.7 Rule"
   ]
  },
  {
   "cell_type": "markdown",
   "metadata": {},
   "source": [
    "- (https://docs.scipy.org/doc/scipy/reference/generated/scipy.stats.norm.html)"
   ]
  },
  {
   "cell_type": "code",
   "execution_count": null,
   "metadata": {
    "collapsed": false
   },
   "outputs": [],
   "source": [
    "stats.norm.cdf(0)\n",
    "# TODO"
   ]
  },
  {
   "cell_type": "code",
   "execution_count": null,
   "metadata": {
    "collapsed": false
   },
   "outputs": [],
   "source": [
    "print \"For normally distributed data:\"\n",
    "for z in [1, 1.65, 2, 3]:\n",
    "    print \"\\t- {:3.2f}% of it is between +/- {:1.2f} sigma(s)\".\\\n",
    "        format((stats.norm.cdf(z) - stats.norm.cdf(-z)) * 100, z)"
   ]
  },
  {
   "cell_type": "markdown",
   "metadata": {},
   "source": [
    "> ### `norm.ppf` (percent point function) is the  inverse of `norm.cdf`:"
   ]
  },
  {
   "cell_type": "code",
   "execution_count": null,
   "metadata": {
    "collapsed": false
   },
   "outputs": [],
   "source": [
    "stats.norm.ppf(stats.norm.cdf(1))"
   ]
  },
  {
   "cell_type": "markdown",
   "metadata": {},
   "source": [
    "> ### $\\sigma$ for the 90% rule?"
   ]
  },
  {
   "cell_type": "code",
   "execution_count": null,
   "metadata": {
    "collapsed": false
   },
   "outputs": [],
   "source": [
    "# TODO"
   ]
  },
  {
   "cell_type": "markdown",
   "metadata": {},
   "source": [
    "## Part C | Linear Regression with _statsmodels_' `ols`"
   ]
  },
  {
   "cell_type": "markdown",
   "metadata": {},
   "source": [
    "- (http://statsmodels.sourceforge.net/devel/examples/notebooks/generated/formulas.html)"
   ]
  },
  {
   "cell_type": "code",
   "execution_count": null,
   "metadata": {
    "collapsed": false
   },
   "outputs": [],
   "source": [
    "# TODO\n",
    "\n",
    "model.summary()"
   ]
  },
  {
   "cell_type": "markdown",
   "metadata": {},
   "source": [
    "### `SalePrice` as a function of `Size` without `Intercept`"
   ]
  },
  {
   "cell_type": "code",
   "execution_count": null,
   "metadata": {
    "collapsed": false
   },
   "outputs": [],
   "source": [
    "# TODO\n",
    "\n",
    "model.summary()"
   ]
  },
  {
   "cell_type": "markdown",
   "metadata": {},
   "source": [
    "### Dropping outliers"
   ]
  },
  {
   "cell_type": "code",
   "execution_count": null,
   "metadata": {
    "collapsed": false
   },
   "outputs": [],
   "source": [
    "def drop_outliers(df):\n",
    "    print 'Dropping outliers'\n",
    "    print '- n (before) =', df.shape[0]\n",
    "\n",
    "    # TODO\n",
    "\n",
    "    print '- Q1         =', Q1, '($M)'\n",
    "    print '- Q2/Median  =', Q2, '($M)'\n",
    "    print '- Q3         =', Q3, '($M)'\n",
    "\n",
    "    # TODO\n",
    "\n",
    "    print '- n (after)  =', df.shape[0]\n",
    "\n",
    "drop_outliers(df)"
   ]
  },
  {
   "cell_type": "markdown",
   "metadata": {},
   "source": [
    "### `SalePrice` as a function of `Size` (again)"
   ]
  },
  {
   "cell_type": "code",
   "execution_count": null,
   "metadata": {
    "collapsed": false
   },
   "outputs": [],
   "source": [
    "# TODO\n",
    "\n",
    "model.summary()"
   ]
  },
  {
   "cell_type": "markdown",
   "metadata": {
    "collapsed": true
   },
   "source": [
    "## Part D | Checking modeling assumptions"
   ]
  },
  {
   "cell_type": "code",
   "execution_count": null,
   "metadata": {
    "collapsed": true
   },
   "outputs": [],
   "source": [
    "model = smf.ols(formula = 'SalePrice ~ Size', data = df).fit()"
   ]
  },
  {
   "cell_type": "markdown",
   "metadata": {},
   "source": [
    "### Are the residuals normally distributed?"
   ]
  },
  {
   "cell_type": "code",
   "execution_count": null,
   "metadata": {
    "collapsed": false
   },
   "outputs": [],
   "source": [
    "# TODO"
   ]
  },
  {
   "cell_type": "markdown",
   "metadata": {},
   "source": [
    "### Are the residuals normally distributed?  `.qqplot()`"
   ]
  },
  {
   "cell_type": "code",
   "execution_count": null,
   "metadata": {
    "collapsed": false
   },
   "outputs": [],
   "source": [
    "# TODO"
   ]
  },
  {
   "cell_type": "markdown",
   "metadata": {},
   "source": [
    "### Are x and $\\varepsilon$ independent?  `.plot_regress_exog()`"
   ]
  },
  {
   "cell_type": "code",
   "execution_count": null,
   "metadata": {
    "collapsed": false
   },
   "outputs": [],
   "source": [
    "# TODO"
   ]
  },
  {
   "cell_type": "markdown",
   "metadata": {},
   "source": [
    "## Part E | Model's Fit and $R^2$"
   ]
  },
  {
   "cell_type": "code",
   "execution_count": null,
   "metadata": {
    "collapsed": false,
    "scrolled": true
   },
   "outputs": [],
   "source": [
    "df = read_dataset() # reload the dataset to get our outliers back...\n",
    "\n",
    "scale_variables(df) # rescale the variables (use the function defined above)"
   ]
  },
  {
   "cell_type": "markdown",
   "metadata": {},
   "source": [
    "### $SalePrice = \\beta_0 + \\beta_1 \\times Size$"
   ]
  },
  {
   "cell_type": "code",
   "execution_count": null,
   "metadata": {
    "collapsed": false
   },
   "outputs": [],
   "source": [
    "X, y = Xy_3(df)\n",
    "\n",
    "model = smf.OLS(y, X).fit()\n",
    "\n",
    "model.summary()"
   ]
  },
  {
   "cell_type": "code",
   "execution_count": null,
   "metadata": {
    "collapsed": false
   },
   "outputs": [],
   "source": [
    "model.rsquared"
   ]
  },
  {
   "cell_type": "code",
   "execution_count": null,
   "metadata": {
    "collapsed": false
   },
   "outputs": [],
   "source": [
    "y_hat = model.predict(X)\n",
    "\n",
    "var_y_hat = sum((y - y_hat) ** 2)\n",
    "var_y = sum((y - y.mean()) ** 2)\n",
    "\n",
    "1 - var_y_hat / var_y"
   ]
  },
  {
   "cell_type": "markdown",
   "metadata": {},
   "source": [
    "### $SalePrice = \\beta_1 \\times Size$"
   ]
  },
  {
   "cell_type": "code",
   "execution_count": null,
   "metadata": {
    "collapsed": false
   },
   "outputs": [],
   "source": [
    "X, y = Xy_2(df)\n",
    "\n",
    "model = smf.OLS(y, X).fit()\n",
    "\n",
    "model.rsquared"
   ]
  },
  {
   "cell_type": "markdown",
   "metadata": {},
   "source": [
    "> #### Is it real?"
   ]
  },
  {
   "cell_type": "code",
   "execution_count": null,
   "metadata": {
    "collapsed": false
   },
   "outputs": [],
   "source": [
    "y_hat = model.predict(X)"
   ]
  },
  {
   "cell_type": "code",
   "execution_count": null,
   "metadata": {
    "collapsed": false
   },
   "outputs": [],
   "source": [
    "1 - sum((y - y_hat) ** 2) / sum((y - y.mean()) ** 2)"
   ]
  },
  {
   "cell_type": "markdown",
   "metadata": {},
   "source": [
    "## Part F | Calculating the t-value, p-value, and confidence interval for `Intercept`"
   ]
  },
  {
   "cell_type": "markdown",
   "metadata": {},
   "source": [
    "- (https://docs.scipy.org/doc/scipy/reference/generated/scipy.stats.t.html)"
   ]
  },
  {
   "cell_type": "markdown",
   "metadata": {},
   "source": [
    "### $SalePrice = \\beta_0 + \\beta_1 \\times Size$"
   ]
  },
  {
   "cell_type": "code",
   "execution_count": null,
   "metadata": {
    "collapsed": false
   },
   "outputs": [],
   "source": [
    "X, y = Xy_3(df)\n",
    "\n",
    "model = smf.OLS(y, X).fit()\n",
    "\n",
    "model.summary()"
   ]
  },
  {
   "cell_type": "markdown",
   "metadata": {},
   "source": [
    "> ### Given the coefficient $\\beta_0$ and the standard error $SE_{\\beta_0}$"
   ]
  },
  {
   "cell_type": "code",
   "execution_count": null,
   "metadata": {
    "collapsed": false
   },
   "outputs": [],
   "source": [
    "print model.params.const\n",
    "print model.bse.const"
   ]
  },
  {
   "cell_type": "markdown",
   "metadata": {},
   "source": [
    "> ### $t\\text{-}value_{\\beta_0}$:"
   ]
  },
  {
   "cell_type": "code",
   "execution_count": null,
   "metadata": {
    "collapsed": false
   },
   "outputs": [],
   "source": [
    "model.tvalues.const"
   ]
  },
  {
   "cell_type": "code",
   "execution_count": null,
   "metadata": {
    "collapsed": false
   },
   "outputs": [],
   "source": [
    "# TODO"
   ]
  },
  {
   "cell_type": "markdown",
   "metadata": {},
   "source": [
    "> ### $p\\text{-}value_{\\beta_0}$:"
   ]
  },
  {
   "cell_type": "code",
   "execution_count": null,
   "metadata": {
    "collapsed": false
   },
   "outputs": [],
   "source": [
    "model.pvalues.const"
   ]
  },
  {
   "cell_type": "code",
   "execution_count": null,
   "metadata": {
    "collapsed": false
   },
   "outputs": [],
   "source": [
    "print 'Degrees of freedom (df):', model.df_resid"
   ]
  },
  {
   "cell_type": "code",
   "execution_count": null,
   "metadata": {
    "collapsed": false
   },
   "outputs": [],
   "source": [
    "# TODO"
   ]
  },
  {
   "cell_type": "markdown",
   "metadata": {},
   "source": [
    "> ### $CI_{\\beta_0}$:"
   ]
  },
  {
   "cell_type": "code",
   "execution_count": null,
   "metadata": {
    "collapsed": false
   },
   "outputs": [],
   "source": [
    "model.conf_int().T.const"
   ]
  },
  {
   "cell_type": "code",
   "execution_count": null,
   "metadata": {
    "collapsed": false
   },
   "outputs": [],
   "source": [
    "# TODO"
   ]
  },
  {
   "cell_type": "markdown",
   "metadata": {},
   "source": [
    "> ### (We can also calculate $SE_{\\beta_0}$:)"
   ]
  },
  {
   "cell_type": "code",
   "execution_count": null,
   "metadata": {
    "collapsed": false
   },
   "outputs": [],
   "source": [
    "model.bse.const"
   ]
  },
  {
   "cell_type": "code",
   "execution_count": null,
   "metadata": {
    "collapsed": false
   },
   "outputs": [],
   "source": [
    "XTX_1 = np.linalg.inv(np.dot(X.T, X))\n",
    "\n",
    "XTX_1"
   ]
  },
  {
   "cell_type": "code",
   "execution_count": null,
   "metadata": {
    "collapsed": false
   },
   "outputs": [],
   "source": [
    "v0 = XTX_1[0, 0]\n",
    "\n",
    "v0"
   ]
  },
  {
   "cell_type": "code",
   "execution_count": null,
   "metadata": {
    "collapsed": false
   },
   "outputs": [],
   "source": [
    "sigma_hat = np.sqrt(1. / model.df_resid * (y ** 2 - y_hat ** 2).sum())"
   ]
  },
  {
   "cell_type": "code",
   "execution_count": null,
   "metadata": {
    "collapsed": false
   },
   "outputs": [],
   "source": [
    "np.sqrt(v0) * sigma_hat"
   ]
  }
 ],
 "metadata": {
  "kernelspec": {
   "display_name": "Python 2",
   "language": "python",
   "name": "python2"
  },
  "language_info": {
   "codemirror_mode": {
    "name": "ipython",
    "version": 2
   },
   "file_extension": ".py",
   "mimetype": "text/x-python",
   "name": "python",
   "nbconvert_exporter": "python",
   "pygments_lexer": "ipython2",
   "version": "2.7.13"
  }
 },
 "nbformat": 4,
 "nbformat_minor": 0
}
